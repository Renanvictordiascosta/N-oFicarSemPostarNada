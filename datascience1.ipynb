{
  "nbformat": 4,
  "nbformat_minor": 0,
  "metadata": {
    "colab": {
      "name": "datascience1.ipynb",
      "provenance": [],
      "authorship_tag": "ABX9TyMEQnZQSTri3G15r/OO2iyt",
      "include_colab_link": true
    },
    "kernelspec": {
      "name": "python3",
      "display_name": "Python 3"
    },
    "language_info": {
      "name": "python"
    }
  },
  "cells": [
    {
      "cell_type": "markdown",
      "metadata": {
        "id": "view-in-github",
        "colab_type": "text"
      },
      "source": [
        "<a href=\"https://colab.research.google.com/github/Renanvictordiascosta/N-oFicarSemPostarNada/blob/master/datascience1.ipynb\" target=\"_parent\"><img src=\"https://colab.research.google.com/assets/colab-badge.svg\" alt=\"Open In Colab\"/></a>"
      ]
    },
    {
      "cell_type": "code",
      "metadata": {
        "colab": {
          "base_uri": "https://localhost:8080/",
          "height": 296
        },
        "id": "o0ygz87R1Hye",
        "outputId": "be16610e-84c9-41f1-baac-a687e9202ce6"
      },
      "source": [
        "#bibliotecas importadas\n",
        "from collections import Counter\n",
        "import random\n",
        "import matplotlib.pyplot as plot\n",
        "\n",
        "#\n",
        "numero_de_amigos = []\n",
        "for i in range(0, 1000): \n",
        "  numero_de_amigos.append(random.randint(1, 100))\n",
        "\n",
        "contagens_de_amigos = Counter(numero_de_amigos)\n",
        "xs = range(101)\n",
        "ys = [contagens_de_amigos[x] for x in xs]\n",
        "plot.bar(xs, ys, edgecolor=(0,0,0))\n",
        "plot.axis([0, 101, 0, 25])\n",
        "plot.title(\"Histograma de Contagens de Amigos\")\n",
        "plot.xlabel(\"Número de amigos\")\n",
        "plot.ylabel(\"Número de pessoas\")\n",
        "plot.show()"
      ],
      "execution_count": 41,
      "outputs": [
        {
          "output_type": "display_data",
          "data": {
            "image/png": "[encoded data removed]",
            "text/plain": [
              "<Figure size 432x288 with 1 Axes>"
            ]
          },
          "metadata": {
            "needs_background": "light"
          }
        }
      ]
    }
  ]
}